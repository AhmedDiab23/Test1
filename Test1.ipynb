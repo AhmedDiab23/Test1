{
 "cells": [
  {
   "cell_type": "code",
   "execution_count": 9,
   "id": "8c7168a2",
   "metadata": {},
   "outputs": [
    {
     "name": "stdout",
     "output_type": "stream",
     "text": [
      "10\n",
      "12\n",
      "14\n",
      "16\n",
      "18\n",
      "20\n",
      "22\n",
      "24\n",
      "26\n",
      "28\n",
      "30\n",
      "(10, 12, 14, 16)\n"
     ]
    }
   ],
   "source": [
    "even = []\n",
    "for i in range(10,31):\n",
    "    if i % 2 == 0:\n",
    "        print(i)\n",
    "        even.append(i)\n",
    "        \n",
    "tuple4 = tuple(even[:4])\n",
    "print(tuple4)\n",
    "        "
   ]
  },
  {
   "cell_type": "code",
   "execution_count": null,
   "id": "b7a2b912",
   "metadata": {},
   "outputs": [],
   "source": []
  }
 ],
 "metadata": {
  "kernelspec": {
   "display_name": "Python 3 (ipykernel)",
   "language": "python",
   "name": "python3"
  },
  "language_info": {
   "codemirror_mode": {
    "name": "ipython",
    "version": 3
   },
   "file_extension": ".py",
   "mimetype": "text/x-python",
   "name": "python",
   "nbconvert_exporter": "python",
   "pygments_lexer": "ipython3",
   "version": "3.11.5"
  }
 },
 "nbformat": 4,
 "nbformat_minor": 5
}
